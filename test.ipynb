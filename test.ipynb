{
 "cells": [
  {
   "cell_type": "code",
   "execution_count": null,
   "metadata": {
    "ExecuteTime": {
     "end_time": "2020-03-04T02:46:00.916507Z",
     "start_time": "2020-03-04T02:45:59.412980Z"
    },
    "scrolled": true
   },
   "outputs": [],
   "source": [
    "from keras.applications import inception_v3\n",
    "from keras.applications.inception_v3 import InceptionV3\n",
    "from keras.preprocessing import image\n",
    "from keras.layers import *\n",
    "from keras.models import Model\n",
    "from keras.applications.resnet50 import preprocess_input, decode_predictions\n",
    "from keras.utils import to_categorical\n",
    "import tensorflow as tf\n",
    "import keras.backend.tensorflow_backend as KTF\n",
    "from keras.models import load_model\n",
    "import numpy as np\n",
    "import pandas as pd\n",
    "import os\n",
    "from tqdm import tqdm\n",
    "import pickle"
   ]
  },
  {
   "cell_type": "markdown",
   "metadata": {},
   "source": [
    "### 配置GPU"
   ]
  },
  {
   "cell_type": "code",
   "execution_count": null,
   "metadata": {
    "ExecuteTime": {
     "end_time": "2020-03-04T02:46:03.871357Z",
     "start_time": "2020-03-04T02:46:03.721675Z"
    }
   },
   "outputs": [],
   "source": [
    "# 配置GPU\n",
    "os.environ[\"CUDA_VISIBLE_DEVICES\"] = \"0\"  # 使用编号为0号的GPU\n",
    "config = tf.ConfigProto()\n",
    "config.gpu_options.per_process_gpu_memory_fraction = 0.8 # 每个GPU现存上届控制在90%以内\n",
    "session = tf.Session(config=config)\n",
    "# 设置session\n",
    "KTF.set_session(session)"
   ]
  },
  {
   "cell_type": "markdown",
   "metadata": {},
   "source": [
    "#### 读取样本函数"
   ]
  },
  {
   "cell_type": "code",
   "execution_count": null,
   "metadata": {
    "ExecuteTime": {
     "end_time": "2020-03-04T02:46:04.022184Z",
     "start_time": "2020-03-04T02:46:04.017531Z"
    }
   },
   "outputs": [],
   "source": [
    "def read_img(img_id, data_dir, train_or_test, size):\n",
    "    img = image.load_img(os.path.join(data_dir, train_or_test, '%s.jpg' % img_id), target_size=size)\n",
    "    img = image.img_to_array(img)\n",
    "    return img"
   ]
  },
  {
   "cell_type": "markdown",
   "metadata": {},
   "source": [
    "### 单折模型小测试"
   ]
  },
  {
   "cell_type": "code",
   "execution_count": null,
   "metadata": {
    "ExecuteTime": {
     "end_time": "2020-03-04T02:06:29.565642Z",
     "start_time": "2020-03-04T02:06:16.449193Z"
    },
    "scrolled": true
   },
   "outputs": [],
   "source": [
    "model = load_model(\"./pretrain_model/inceptionv3_model_5\")"
   ]
  },
  {
   "cell_type": "code",
   "execution_count": null,
   "metadata": {
    "ExecuteTime": {
     "end_time": "2020-03-04T02:06:48.553715Z",
     "start_time": "2020-03-04T02:06:48.521299Z"
    }
   },
   "outputs": [],
   "source": [
    "test_img = read_img(31, './', 'train', (224,224))\n",
    "xte = inception_v3.preprocess_input(np.expand_dims(test_img.copy(), axis=0))\n",
    "res_list = model.predict(xte)\n",
    "res_list"
   ]
  },
  {
   "cell_type": "code",
   "execution_count": null,
   "metadata": {
    "ExecuteTime": {
     "end_time": "2020-03-04T02:06:52.686465Z",
     "start_time": "2020-03-04T02:06:52.679046Z"
    }
   },
   "outputs": [],
   "source": [
    "res = np.argmax(res_list)\n",
    "res"
   ]
  },
  {
   "cell_type": "markdown",
   "metadata": {},
   "source": [
    "### 训练集测试"
   ]
  },
  {
   "cell_type": "code",
   "execution_count": null,
   "metadata": {
    "ExecuteTime": {
     "end_time": "2020-03-04T02:06:58.160407Z",
     "start_time": "2020-03-04T02:06:58.152492Z"
    }
   },
   "outputs": [],
   "source": [
    "label_train = pd.read_csv('./data/train_5.csv')\n",
    "id_ = label_train['id'].values\n",
    "label = label_train['label'].values"
   ]
  },
  {
   "cell_type": "code",
   "execution_count": null,
   "metadata": {
    "ExecuteTime": {
     "end_time": "2020-03-04T02:10:03.662970Z",
     "start_time": "2020-03-04T02:06:59.938278Z"
    }
   },
   "outputs": [],
   "source": [
    "flag = 0\n",
    "for i,num in tqdm(enumerate(id_)):\n",
    "    test_img = read_img(num, './', 'train', (224,224))\n",
    "    xte = inception_v3.preprocess_input(np.expand_dims(test_img.copy(), axis=0))\n",
    "    res = np.argmax(model.predict(xte))\n",
    "    if res == label[i]:\n",
    "        flag+=1\n",
    "flag/len(id_)"
   ]
  },
  {
   "cell_type": "markdown",
   "metadata": {},
   "source": [
    "### 测试集预测"
   ]
  },
  {
   "cell_type": "code",
   "execution_count": null,
   "metadata": {
    "ExecuteTime": {
     "end_time": "2020-03-04T02:46:12.074453Z",
     "start_time": "2020-03-04T02:46:11.817711Z"
    }
   },
   "outputs": [],
   "source": [
    "test_label = []\n",
    "for i in tqdm(range(6671)):\n",
    "    test_img = read_img(i, './', 'test', (224,224))\n",
    "    xte = inception_v3.preprocess_input(np.expand_dims(test_img.copy(), axis=0))\n",
    "    label = np.argmax(model.predict(xte))\n",
    "    test_label.append(label)"
   ]
  },
  {
   "cell_type": "markdown",
   "metadata": {},
   "source": [
    "### 模型5折自融合"
   ]
  },
  {
   "cell_type": "markdown",
   "metadata": {},
   "source": [
    "#### 读取测试集"
   ]
  },
  {
   "cell_type": "code",
   "execution_count": null,
   "metadata": {
    "ExecuteTime": {
     "end_time": "2020-03-04T02:46:51.721637Z",
     "start_time": "2020-03-04T02:46:15.137803Z"
    }
   },
   "outputs": [],
   "source": [
    "testimg_book = []\n",
    "for i in tqdm(range(6671)):\n",
    "    test_img = read_img(i, './', 'test', (224,224))\n",
    "    xte = inception_v3.preprocess_input(np.expand_dims(test_img.copy(), axis=0))\n",
    "    testimg_book.append(xte)"
   ]
  },
  {
   "cell_type": "code",
   "execution_count": null,
   "metadata": {
    "ExecuteTime": {
     "end_time": "2020-03-04T02:47:02.581507Z",
     "start_time": "2020-03-04T02:47:02.571988Z"
    }
   },
   "outputs": [],
   "source": [
    "testimg_book[0].shape"
   ]
  },
  {
   "cell_type": "code",
   "execution_count": null,
   "metadata": {
    "ExecuteTime": {
     "end_time": "2020-03-04T03:09:13.343622Z",
     "start_time": "2020-03-04T02:56:04.576992Z"
    },
    "scrolled": true
   },
   "outputs": [],
   "source": [
    "test_label_book = []\n",
    "for i in range(1,6):\n",
    "    model = load_model(\"./pretrain_model/inceptionv3_model_{}\".format(i))\n",
    "    test_label = []\n",
    "    for img in tqdm(testimg_book):\n",
    "        label = model.predict(img)\n",
    "        test_label.append(label)\n",
    "    test_label_book.append(test_label)"
   ]
  },
  {
   "cell_type": "code",
   "execution_count": null,
   "metadata": {
    "ExecuteTime": {
     "end_time": "2020-03-04T03:23:55.666045Z",
     "start_time": "2020-03-04T03:23:55.649035Z"
    }
   },
   "outputs": [],
   "source": [
    "merge_test_label = np.asarray(test_label_book[0])+np.asarray(test_label_book[1])+np.asarray(test_label_book[2])+np.asarray(test_label_book[3])+np.asarray(test_label_book[4])"
   ]
  },
  {
   "cell_type": "code",
   "execution_count": null,
   "metadata": {
    "ExecuteTime": {
     "end_time": "2020-03-04T03:24:34.100123Z",
     "start_time": "2020-03-04T03:24:34.095387Z"
    }
   },
   "outputs": [],
   "source": [
    "len(merge_test_label)"
   ]
  },
  {
   "cell_type": "code",
   "execution_count": null,
   "metadata": {
    "ExecuteTime": {
     "end_time": "2020-03-04T03:28:59.264568Z",
     "start_time": "2020-03-04T03:28:59.259283Z"
    }
   },
   "outputs": [],
   "source": [
    "merge_test_label = map(lambda x:np.argmax(x), merge_test_label)"
   ]
  },
  {
   "cell_type": "code",
   "execution_count": null,
   "metadata": {
    "ExecuteTime": {
     "end_time": "2020-03-04T03:29:38.686348Z",
     "start_time": "2020-03-04T03:29:38.657983Z"
    }
   },
   "outputs": [],
   "source": [
    "merge_test_label = list(merge_test_label)"
   ]
  },
  {
   "cell_type": "code",
   "execution_count": null,
   "metadata": {
    "ExecuteTime": {
     "end_time": "2020-03-04T03:32:05.056943Z",
     "start_time": "2020-03-04T03:32:05.041192Z"
    }
   },
   "outputs": [],
   "source": [
    "merge_test_label"
   ]
  },
  {
   "cell_type": "code",
   "execution_count": null,
   "metadata": {
    "ExecuteTime": {
     "end_time": "2020-03-04T03:32:44.379854Z",
     "start_time": "2020-03-04T03:32:44.344089Z"
    }
   },
   "outputs": [],
   "source": [
    "id_ = [x for x in range(6671)]\n",
    "test_df = pd.DataFrame({'id':id_,'label':merge_test_label})\n",
    "test_df.shape"
   ]
  },
  {
   "cell_type": "code",
   "execution_count": null,
   "metadata": {
    "ExecuteTime": {
     "end_time": "2020-03-04T03:33:23.292893Z",
     "start_time": "2020-03-04T03:33:23.286898Z"
    }
   },
   "outputs": [],
   "source": [
    "test_df.label[test_df['label']!=0].count()"
   ]
  },
  {
   "cell_type": "code",
   "execution_count": null,
   "metadata": {
    "ExecuteTime": {
     "end_time": "2020-03-04T03:34:02.105879Z",
     "start_time": "2020-03-04T03:34:01.979118Z"
    }
   },
   "outputs": [],
   "source": [
    "test_df.to_csv('test.csv', header=0, index=0)"
   ]
  },
  {
   "cell_type": "code",
   "execution_count": null,
   "metadata": {},
   "outputs": [],
   "source": []
  }
 ],
 "metadata": {
  "kernelspec": {
   "display_name": "deepfacelab",
   "language": "python",
   "name": "deepfacelab"
  },
  "language_info": {
   "codemirror_mode": {
    "name": "ipython",
    "version": 3
   },
   "file_extension": ".py",
   "mimetype": "text/x-python",
   "name": "python",
   "nbconvert_exporter": "python",
   "pygments_lexer": "ipython3",
   "version": "3.6.0"
  },
  "nbTranslate": {
   "displayLangs": [
    "*"
   ],
   "hotkey": "alt-t",
   "langInMainMenu": true,
   "sourceLang": "en",
   "targetLang": "fr",
   "useGoogleTranslate": true
  },
  "toc": {
   "base_numbering": 1,
   "nav_menu": {},
   "number_sections": true,
   "sideBar": true,
   "skip_h1_title": false,
   "title_cell": "Table of Contents",
   "title_sidebar": "Contents",
   "toc_cell": false,
   "toc_position": {},
   "toc_section_display": true,
   "toc_window_display": false
  },
  "varInspector": {
   "cols": {
    "lenName": 16,
    "lenType": 16,
    "lenVar": 40
   },
   "kernels_config": {
    "python": {
     "delete_cmd_postfix": "",
     "delete_cmd_prefix": "del ",
     "library": "var_list.py",
     "varRefreshCmd": "print(var_dic_list())"
    },
    "r": {
     "delete_cmd_postfix": ") ",
     "delete_cmd_prefix": "rm(",
     "library": "var_list.r",
     "varRefreshCmd": "cat(var_dic_list()) "
    }
   },
   "types_to_exclude": [
    "module",
    "function",
    "builtin_function_or_method",
    "instance",
    "_Feature"
   ],
   "window_display": false
  }
 },
 "nbformat": 4,
 "nbformat_minor": 2
}
